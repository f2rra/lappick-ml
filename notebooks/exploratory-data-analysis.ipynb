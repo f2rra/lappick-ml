{
 "cells": [
  {
   "cell_type": "markdown",
   "id": "d4331871",
   "metadata": {},
   "source": [
    "**Import Library**"
   ]
  },
  {
   "cell_type": "code",
   "execution_count": 1,
   "id": "f9efe339",
   "metadata": {},
   "outputs": [],
   "source": [
    "import pandas as pd\n",
    "import os"
   ]
  },
  {
   "cell_type": "markdown",
   "id": "2d150145",
   "metadata": {},
   "source": [
    "**Extract Data**"
   ]
  },
  {
   "cell_type": "code",
   "execution_count": 25,
   "id": "9124f4dc",
   "metadata": {},
   "outputs": [],
   "source": [
    "# Data Directory\n",
    "DATA_DIR = os.path.join(os.getcwd(), '..', 'data', 'raw')\n",
    "\n",
    "# Load Laptop Dataset\n",
    "laptop_df1 = pd.read_csv(DATA_DIR + \"/laptop_data.csv\", index_col=0)\n",
    "laptop_df2 = pd.read_csv(DATA_DIR + \"/LaptopPricePrediction.csv\", index_col=0)\n",
    "laptop_df3 = pd.read_csv(DATA_DIR + \"/laptops.csv\")\n",
    "\n",
    "# Load CPU/GPU Benchmark Dataset\n",
    "cpu_df = pd.read_csv(DATA_DIR + \"/cpu_benchmarks.csv\")\n",
    "gpu_df = pd.read_csv(DATA_DIR + \"/gpu_benchmarks.csv\")\n",
    "\n",
    "# Load Apps Specification Dataset\n",
    "minspecs_game_df = pd.read_csv(DATA_DIR + \"/minimum_requirements_game.csv\")\n",
    "recspecs_game_df = pd.read_csv(DATA_DIR + \"/recommended_requirements_game.csv\")\n",
    "minspecs_app_df = pd.read_csv(DATA_DIR + \"/minimum_multimedia.csv\", index_col=0)\n",
    "recspecs_app_df = pd.read_csv(DATA_DIR + \"/recommended_multimedia.csv\", index_col=0)"
   ]
  },
  {
   "cell_type": "code",
   "execution_count": 26,
   "id": "3930978e",
   "metadata": {},
   "outputs": [
    {
     "data": {
      "application/vnd.microsoft.datawrangler.viewer.v0+json": {
       "columns": [
        {
         "name": "index",
         "rawType": "int64",
         "type": "integer"
        },
        {
         "name": "Company",
         "rawType": "object",
         "type": "string"
        },
        {
         "name": "TypeName",
         "rawType": "object",
         "type": "string"
        },
        {
         "name": "Inches",
         "rawType": "float64",
         "type": "float"
        },
        {
         "name": "ScreenResolution",
         "rawType": "object",
         "type": "string"
        },
        {
         "name": "Cpu",
         "rawType": "object",
         "type": "string"
        },
        {
         "name": "Ram",
         "rawType": "object",
         "type": "string"
        },
        {
         "name": "Memory",
         "rawType": "object",
         "type": "string"
        },
        {
         "name": "Gpu",
         "rawType": "object",
         "type": "string"
        },
        {
         "name": "OpSys",
         "rawType": "object",
         "type": "string"
        },
        {
         "name": "Weight",
         "rawType": "object",
         "type": "string"
        },
        {
         "name": "Price",
         "rawType": "float64",
         "type": "float"
        }
       ],
       "ref": "653286a5-7c10-43d5-97d4-6be0f3efe2af",
       "rows": [
        [
         "0",
         "Apple",
         "Ultrabook",
         "13.3",
         "IPS Panel Retina Display 2560x1600",
         "Intel Core i5 2.3GHz",
         "8GB",
         "128GB SSD",
         "Intel Iris Plus Graphics 640",
         "macOS",
         "1.37kg",
         "71378.6832"
        ],
        [
         "1",
         "Apple",
         "Ultrabook",
         "13.3",
         "1440x900",
         "Intel Core i5 1.8GHz",
         "8GB",
         "128GB Flash Storage",
         "Intel HD Graphics 6000",
         "macOS",
         "1.34kg",
         "47895.5232"
        ],
        [
         "2",
         "HP",
         "Notebook",
         "15.6",
         "Full HD 1920x1080",
         "Intel Core i5 7200U 2.5GHz",
         "8GB",
         "256GB SSD",
         "Intel HD Graphics 620",
         "No OS",
         "1.86kg",
         "30636.0"
        ],
        [
         "3",
         "Apple",
         "Ultrabook",
         "15.4",
         "IPS Panel Retina Display 2880x1800",
         "Intel Core i7 2.7GHz",
         "16GB",
         "512GB SSD",
         "AMD Radeon Pro 455",
         "macOS",
         "1.83kg",
         "135195.33599999998"
        ],
        [
         "4",
         "Apple",
         "Ultrabook",
         "13.3",
         "IPS Panel Retina Display 2560x1600",
         "Intel Core i5 3.1GHz",
         "8GB",
         "256GB SSD",
         "Intel Iris Plus Graphics 650",
         "macOS",
         "1.37kg",
         "96095.808"
        ]
       ],
       "shape": {
        "columns": 11,
        "rows": 5
       }
      },
      "text/html": [
       "<div>\n",
       "<style scoped>\n",
       "    .dataframe tbody tr th:only-of-type {\n",
       "        vertical-align: middle;\n",
       "    }\n",
       "\n",
       "    .dataframe tbody tr th {\n",
       "        vertical-align: top;\n",
       "    }\n",
       "\n",
       "    .dataframe thead th {\n",
       "        text-align: right;\n",
       "    }\n",
       "</style>\n",
       "<table border=\"1\" class=\"dataframe\">\n",
       "  <thead>\n",
       "    <tr style=\"text-align: right;\">\n",
       "      <th></th>\n",
       "      <th>Company</th>\n",
       "      <th>TypeName</th>\n",
       "      <th>Inches</th>\n",
       "      <th>ScreenResolution</th>\n",
       "      <th>Cpu</th>\n",
       "      <th>Ram</th>\n",
       "      <th>Memory</th>\n",
       "      <th>Gpu</th>\n",
       "      <th>OpSys</th>\n",
       "      <th>Weight</th>\n",
       "      <th>Price</th>\n",
       "    </tr>\n",
       "  </thead>\n",
       "  <tbody>\n",
       "    <tr>\n",
       "      <th>0</th>\n",
       "      <td>Apple</td>\n",
       "      <td>Ultrabook</td>\n",
       "      <td>13.3</td>\n",
       "      <td>IPS Panel Retina Display 2560x1600</td>\n",
       "      <td>Intel Core i5 2.3GHz</td>\n",
       "      <td>8GB</td>\n",
       "      <td>128GB SSD</td>\n",
       "      <td>Intel Iris Plus Graphics 640</td>\n",
       "      <td>macOS</td>\n",
       "      <td>1.37kg</td>\n",
       "      <td>71378.6832</td>\n",
       "    </tr>\n",
       "    <tr>\n",
       "      <th>1</th>\n",
       "      <td>Apple</td>\n",
       "      <td>Ultrabook</td>\n",
       "      <td>13.3</td>\n",
       "      <td>1440x900</td>\n",
       "      <td>Intel Core i5 1.8GHz</td>\n",
       "      <td>8GB</td>\n",
       "      <td>128GB Flash Storage</td>\n",
       "      <td>Intel HD Graphics 6000</td>\n",
       "      <td>macOS</td>\n",
       "      <td>1.34kg</td>\n",
       "      <td>47895.5232</td>\n",
       "    </tr>\n",
       "    <tr>\n",
       "      <th>2</th>\n",
       "      <td>HP</td>\n",
       "      <td>Notebook</td>\n",
       "      <td>15.6</td>\n",
       "      <td>Full HD 1920x1080</td>\n",
       "      <td>Intel Core i5 7200U 2.5GHz</td>\n",
       "      <td>8GB</td>\n",
       "      <td>256GB SSD</td>\n",
       "      <td>Intel HD Graphics 620</td>\n",
       "      <td>No OS</td>\n",
       "      <td>1.86kg</td>\n",
       "      <td>30636.0000</td>\n",
       "    </tr>\n",
       "    <tr>\n",
       "      <th>3</th>\n",
       "      <td>Apple</td>\n",
       "      <td>Ultrabook</td>\n",
       "      <td>15.4</td>\n",
       "      <td>IPS Panel Retina Display 2880x1800</td>\n",
       "      <td>Intel Core i7 2.7GHz</td>\n",
       "      <td>16GB</td>\n",
       "      <td>512GB SSD</td>\n",
       "      <td>AMD Radeon Pro 455</td>\n",
       "      <td>macOS</td>\n",
       "      <td>1.83kg</td>\n",
       "      <td>135195.3360</td>\n",
       "    </tr>\n",
       "    <tr>\n",
       "      <th>4</th>\n",
       "      <td>Apple</td>\n",
       "      <td>Ultrabook</td>\n",
       "      <td>13.3</td>\n",
       "      <td>IPS Panel Retina Display 2560x1600</td>\n",
       "      <td>Intel Core i5 3.1GHz</td>\n",
       "      <td>8GB</td>\n",
       "      <td>256GB SSD</td>\n",
       "      <td>Intel Iris Plus Graphics 650</td>\n",
       "      <td>macOS</td>\n",
       "      <td>1.37kg</td>\n",
       "      <td>96095.8080</td>\n",
       "    </tr>\n",
       "  </tbody>\n",
       "</table>\n",
       "</div>"
      ],
      "text/plain": [
       "  Company   TypeName  Inches                    ScreenResolution  \\\n",
       "0   Apple  Ultrabook    13.3  IPS Panel Retina Display 2560x1600   \n",
       "1   Apple  Ultrabook    13.3                            1440x900   \n",
       "2      HP   Notebook    15.6                   Full HD 1920x1080   \n",
       "3   Apple  Ultrabook    15.4  IPS Panel Retina Display 2880x1800   \n",
       "4   Apple  Ultrabook    13.3  IPS Panel Retina Display 2560x1600   \n",
       "\n",
       "                          Cpu   Ram               Memory  \\\n",
       "0        Intel Core i5 2.3GHz   8GB            128GB SSD   \n",
       "1        Intel Core i5 1.8GHz   8GB  128GB Flash Storage   \n",
       "2  Intel Core i5 7200U 2.5GHz   8GB            256GB SSD   \n",
       "3        Intel Core i7 2.7GHz  16GB            512GB SSD   \n",
       "4        Intel Core i5 3.1GHz   8GB            256GB SSD   \n",
       "\n",
       "                            Gpu  OpSys  Weight        Price  \n",
       "0  Intel Iris Plus Graphics 640  macOS  1.37kg   71378.6832  \n",
       "1        Intel HD Graphics 6000  macOS  1.34kg   47895.5232  \n",
       "2         Intel HD Graphics 620  No OS  1.86kg   30636.0000  \n",
       "3            AMD Radeon Pro 455  macOS  1.83kg  135195.3360  \n",
       "4  Intel Iris Plus Graphics 650  macOS  1.37kg   96095.8080  "
      ]
     },
     "execution_count": 26,
     "metadata": {},
     "output_type": "execute_result"
    }
   ],
   "source": [
    "# Display the first few rows of each dataframe\n",
    "laptop_df1.head()"
   ]
  },
  {
   "cell_type": "code",
   "execution_count": 27,
   "id": "30dbd78b",
   "metadata": {},
   "outputs": [
    {
     "data": {
      "application/vnd.microsoft.datawrangler.viewer.v0+json": {
       "columns": [
        {
         "name": "index",
         "rawType": "int64",
         "type": "integer"
        },
        {
         "name": "Name",
         "rawType": "object",
         "type": "string"
        },
        {
         "name": "Processor",
         "rawType": "object",
         "type": "string"
        },
        {
         "name": "RAM",
         "rawType": "object",
         "type": "string"
        },
        {
         "name": "Operating System",
         "rawType": "object",
         "type": "string"
        },
        {
         "name": "Storage",
         "rawType": "object",
         "type": "string"
        },
        {
         "name": "Display",
         "rawType": "object",
         "type": "string"
        },
        {
         "name": "Warranty",
         "rawType": "object",
         "type": "string"
        },
        {
         "name": "Price",
         "rawType": "object",
         "type": "string"
        },
        {
         "name": "rating",
         "rawType": "float64",
         "type": "float"
        }
       ],
       "ref": "117f8793-f08f-4903-9263-b306199534a5",
       "rows": [
        [
         "0",
         "Lenovo Ideapad S145 Core i5 10th Gen - (8 GB/1 TB HDD/Windows 10 Home) S145-15IIL Laptop",
         "Intel Core i5 Processor (10th Gen)",
         "8 GB DDR4 RAM",
         "64 bit Windows 10 Operating System",
         "1 TB HDD",
         "39.62 cm (15.6 inch) Display",
         "1 Year Onsite Warranty",
         "₹43,990",
         "3.9"
        ],
        [
         "1",
         "Lenovo IdeaPad Core i3 11th Gen - (8 GB/256 GB SSD/Windows 10 Home) IdeaPad 3 14ITL6 Thin and Light La...",
         "Intel Core i3 Processor (11th Gen)",
         "8 GB DDR4 RAM",
         "64 bit Windows 10 Operating System",
         "256 GB SSD",
         "35.56 cm (14 Inch) Display",
         "1 Year Onsite Warranty",
         "₹43,990",
         "4.2"
        ],
        [
         "2",
         "HP Pentium Quad Core - (8 GB/256 GB SSD/Windows 10 Home) 14s- DQ3018TU Thin and Light Laptop",
         "Intel Pentium Quad Core Processor",
         "8 GB DDR4 RAM",
         "64 bit Windows 10 Operating System",
         "256 GB SSD",
         "35.56 cm (14 inch) Display",
         "1 Year Onsite Warranty",
         "₹31,490",
         "4.6"
        ],
        [
         "3",
         "HP 14s Core i3 11th Gen - (8 GB/256 GB SSD/Windows 10 Home) 14s- DY2501TU Thin and Light Laptop",
         "Intel Core i3 Processor (11th Gen)",
         "8 GB DDR4 RAM",
         "64 bit Windows 10 Operating System",
         "256 GB SSD",
         "35.56 cm (14 inch) Display",
         "1 Year Onsite Warranty",
         "₹40,990",
         "4.1"
        ],
        [
         "4",
         "HP 15s Athlon Dual Core - (4 GB/1 TB HDD/Windows 10 Home) 15s-GY0001AU Thin and Light Laptop",
         "AMD Athlon Dual Core Processor",
         "4 GB DDR4 RAM",
         "64 bit Windows 10 Operating System",
         "1 TB HDD",
         "39.62 cm (15.6 inch) Display",
         "1 Year Onsite Warranty",
         "₹27,490",
         "4.1"
        ]
       ],
       "shape": {
        "columns": 9,
        "rows": 5
       }
      },
      "text/html": [
       "<div>\n",
       "<style scoped>\n",
       "    .dataframe tbody tr th:only-of-type {\n",
       "        vertical-align: middle;\n",
       "    }\n",
       "\n",
       "    .dataframe tbody tr th {\n",
       "        vertical-align: top;\n",
       "    }\n",
       "\n",
       "    .dataframe thead th {\n",
       "        text-align: right;\n",
       "    }\n",
       "</style>\n",
       "<table border=\"1\" class=\"dataframe\">\n",
       "  <thead>\n",
       "    <tr style=\"text-align: right;\">\n",
       "      <th></th>\n",
       "      <th>Name</th>\n",
       "      <th>Processor</th>\n",
       "      <th>RAM</th>\n",
       "      <th>Operating System</th>\n",
       "      <th>Storage</th>\n",
       "      <th>Display</th>\n",
       "      <th>Warranty</th>\n",
       "      <th>Price</th>\n",
       "      <th>rating</th>\n",
       "    </tr>\n",
       "  </thead>\n",
       "  <tbody>\n",
       "    <tr>\n",
       "      <th>0</th>\n",
       "      <td>Lenovo Ideapad S145 Core i5 10th Gen - (8 GB/1...</td>\n",
       "      <td>Intel Core i5 Processor (10th Gen)</td>\n",
       "      <td>8 GB DDR4 RAM</td>\n",
       "      <td>64 bit Windows 10 Operating System</td>\n",
       "      <td>1 TB HDD</td>\n",
       "      <td>39.62 cm (15.6 inch) Display</td>\n",
       "      <td>1 Year Onsite Warranty</td>\n",
       "      <td>₹43,990</td>\n",
       "      <td>3.9</td>\n",
       "    </tr>\n",
       "    <tr>\n",
       "      <th>1</th>\n",
       "      <td>Lenovo IdeaPad Core i3 11th Gen - (8 GB/256 GB...</td>\n",
       "      <td>Intel Core i3 Processor (11th Gen)</td>\n",
       "      <td>8 GB DDR4 RAM</td>\n",
       "      <td>64 bit Windows 10 Operating System</td>\n",
       "      <td>256 GB SSD</td>\n",
       "      <td>35.56 cm (14 Inch) Display</td>\n",
       "      <td>1 Year Onsite Warranty</td>\n",
       "      <td>₹43,990</td>\n",
       "      <td>4.2</td>\n",
       "    </tr>\n",
       "    <tr>\n",
       "      <th>2</th>\n",
       "      <td>HP Pentium Quad Core - (8 GB/256 GB SSD/Window...</td>\n",
       "      <td>Intel Pentium Quad Core Processor</td>\n",
       "      <td>8 GB DDR4 RAM</td>\n",
       "      <td>64 bit Windows 10 Operating System</td>\n",
       "      <td>256 GB SSD</td>\n",
       "      <td>35.56 cm (14 inch) Display</td>\n",
       "      <td>1 Year Onsite Warranty</td>\n",
       "      <td>₹31,490</td>\n",
       "      <td>4.6</td>\n",
       "    </tr>\n",
       "    <tr>\n",
       "      <th>3</th>\n",
       "      <td>HP 14s Core i3 11th Gen - (8 GB/256 GB SSD/Win...</td>\n",
       "      <td>Intel Core i3 Processor (11th Gen)</td>\n",
       "      <td>8 GB DDR4 RAM</td>\n",
       "      <td>64 bit Windows 10 Operating System</td>\n",
       "      <td>256 GB SSD</td>\n",
       "      <td>35.56 cm (14 inch) Display</td>\n",
       "      <td>1 Year Onsite Warranty</td>\n",
       "      <td>₹40,990</td>\n",
       "      <td>4.1</td>\n",
       "    </tr>\n",
       "    <tr>\n",
       "      <th>4</th>\n",
       "      <td>HP 15s Athlon Dual Core - (4 GB/1 TB HDD/Windo...</td>\n",
       "      <td>AMD Athlon Dual Core Processor</td>\n",
       "      <td>4 GB DDR4 RAM</td>\n",
       "      <td>64 bit Windows 10 Operating System</td>\n",
       "      <td>1 TB HDD</td>\n",
       "      <td>39.62 cm (15.6 inch) Display</td>\n",
       "      <td>1 Year Onsite Warranty</td>\n",
       "      <td>₹27,490</td>\n",
       "      <td>4.1</td>\n",
       "    </tr>\n",
       "  </tbody>\n",
       "</table>\n",
       "</div>"
      ],
      "text/plain": [
       "                                                Name  \\\n",
       "0  Lenovo Ideapad S145 Core i5 10th Gen - (8 GB/1...   \n",
       "1  Lenovo IdeaPad Core i3 11th Gen - (8 GB/256 GB...   \n",
       "2  HP Pentium Quad Core - (8 GB/256 GB SSD/Window...   \n",
       "3  HP 14s Core i3 11th Gen - (8 GB/256 GB SSD/Win...   \n",
       "4  HP 15s Athlon Dual Core - (4 GB/1 TB HDD/Windo...   \n",
       "\n",
       "                            Processor            RAM  \\\n",
       "0  Intel Core i5 Processor (10th Gen)  8 GB DDR4 RAM   \n",
       "1  Intel Core i3 Processor (11th Gen)  8 GB DDR4 RAM   \n",
       "2   Intel Pentium Quad Core Processor  8 GB DDR4 RAM   \n",
       "3  Intel Core i3 Processor (11th Gen)  8 GB DDR4 RAM   \n",
       "4      AMD Athlon Dual Core Processor  4 GB DDR4 RAM   \n",
       "\n",
       "                     Operating System     Storage  \\\n",
       "0  64 bit Windows 10 Operating System    1 TB HDD   \n",
       "1  64 bit Windows 10 Operating System  256 GB SSD   \n",
       "2  64 bit Windows 10 Operating System  256 GB SSD   \n",
       "3  64 bit Windows 10 Operating System  256 GB SSD   \n",
       "4  64 bit Windows 10 Operating System    1 TB HDD   \n",
       "\n",
       "                        Display                Warranty    Price  rating  \n",
       "0  39.62 cm (15.6 inch) Display  1 Year Onsite Warranty  ₹43,990     3.9  \n",
       "1    35.56 cm (14 Inch) Display  1 Year Onsite Warranty  ₹43,990     4.2  \n",
       "2    35.56 cm (14 inch) Display  1 Year Onsite Warranty  ₹31,490     4.6  \n",
       "3    35.56 cm (14 inch) Display  1 Year Onsite Warranty  ₹40,990     4.1  \n",
       "4  39.62 cm (15.6 inch) Display  1 Year Onsite Warranty  ₹27,490     4.1  "
      ]
     },
     "execution_count": 27,
     "metadata": {},
     "output_type": "execute_result"
    }
   ],
   "source": [
    "laptop_df2.head()"
   ]
  },
  {
   "cell_type": "code",
   "execution_count": 28,
   "id": "2c0975dd",
   "metadata": {},
   "outputs": [
    {
     "data": {
      "application/vnd.microsoft.datawrangler.viewer.v0+json": {
       "columns": [
        {
         "name": "index",
         "rawType": "int64",
         "type": "integer"
        },
        {
         "name": "Laptop",
         "rawType": "object",
         "type": "string"
        },
        {
         "name": "Status",
         "rawType": "object",
         "type": "string"
        },
        {
         "name": "Brand",
         "rawType": "object",
         "type": "string"
        },
        {
         "name": "Model",
         "rawType": "object",
         "type": "string"
        },
        {
         "name": "CPU",
         "rawType": "object",
         "type": "string"
        },
        {
         "name": "RAM",
         "rawType": "int64",
         "type": "integer"
        },
        {
         "name": "Storage",
         "rawType": "int64",
         "type": "integer"
        },
        {
         "name": "Storage type",
         "rawType": "object",
         "type": "string"
        },
        {
         "name": "GPU",
         "rawType": "object",
         "type": "unknown"
        },
        {
         "name": "Screen",
         "rawType": "float64",
         "type": "float"
        },
        {
         "name": "Touch",
         "rawType": "object",
         "type": "string"
        },
        {
         "name": "Final Price",
         "rawType": "float64",
         "type": "float"
        }
       ],
       "ref": "a81e3d5c-4d6f-4ce0-8752-93da02ad0e2d",
       "rows": [
        [
         "0",
         "ASUS ExpertBook B1 B1502CBA-EJ0436X Intel Core i5-1235U/8GB/512GB SSD/15.6\"",
         "New",
         "Asus",
         "ExpertBook",
         "Intel Core i5",
         "8",
         "512",
         "SSD",
         null,
         "15.6",
         "No",
         "1009.0"
        ],
        [
         "1",
         "Alurin Go Start Intel Celeron N4020/8GB/256GB SSD/15.6\"",
         "New",
         "Alurin",
         "Go",
         "Intel Celeron",
         "8",
         "256",
         "SSD",
         null,
         "15.6",
         "No",
         "299.0"
        ],
        [
         "2",
         "ASUS ExpertBook B1 B1502CBA-EJ0424X Intel Core i3-1215U/8GB/256GB SSD/15.6\"",
         "New",
         "Asus",
         "ExpertBook",
         "Intel Core i3",
         "8",
         "256",
         "SSD",
         null,
         "15.6",
         "No",
         "789.0"
        ],
        [
         "3",
         "MSI Katana GF66 12UC-082XES Intel Core i7-12700H/16GB/1TB SSD/RTX3050/15.6\"",
         "New",
         "MSI",
         "Katana",
         "Intel Core i7",
         "16",
         "1000",
         "SSD",
         "RTX 3050",
         "15.6",
         "No",
         "1199.0"
        ],
        [
         "4",
         "HP 15S-FQ5085NS Intel Core i5-1235U/16GB/512GB SSD/15.6\"",
         "New",
         "HP",
         "15S",
         "Intel Core i5",
         "16",
         "512",
         "SSD",
         null,
         "15.6",
         "No",
         "669.01"
        ]
       ],
       "shape": {
        "columns": 12,
        "rows": 5
       }
      },
      "text/html": [
       "<div>\n",
       "<style scoped>\n",
       "    .dataframe tbody tr th:only-of-type {\n",
       "        vertical-align: middle;\n",
       "    }\n",
       "\n",
       "    .dataframe tbody tr th {\n",
       "        vertical-align: top;\n",
       "    }\n",
       "\n",
       "    .dataframe thead th {\n",
       "        text-align: right;\n",
       "    }\n",
       "</style>\n",
       "<table border=\"1\" class=\"dataframe\">\n",
       "  <thead>\n",
       "    <tr style=\"text-align: right;\">\n",
       "      <th></th>\n",
       "      <th>Laptop</th>\n",
       "      <th>Status</th>\n",
       "      <th>Brand</th>\n",
       "      <th>Model</th>\n",
       "      <th>CPU</th>\n",
       "      <th>RAM</th>\n",
       "      <th>Storage</th>\n",
       "      <th>Storage type</th>\n",
       "      <th>GPU</th>\n",
       "      <th>Screen</th>\n",
       "      <th>Touch</th>\n",
       "      <th>Final Price</th>\n",
       "    </tr>\n",
       "  </thead>\n",
       "  <tbody>\n",
       "    <tr>\n",
       "      <th>0</th>\n",
       "      <td>ASUS ExpertBook B1 B1502CBA-EJ0436X Intel Core...</td>\n",
       "      <td>New</td>\n",
       "      <td>Asus</td>\n",
       "      <td>ExpertBook</td>\n",
       "      <td>Intel Core i5</td>\n",
       "      <td>8</td>\n",
       "      <td>512</td>\n",
       "      <td>SSD</td>\n",
       "      <td>NaN</td>\n",
       "      <td>15.6</td>\n",
       "      <td>No</td>\n",
       "      <td>1009.00</td>\n",
       "    </tr>\n",
       "    <tr>\n",
       "      <th>1</th>\n",
       "      <td>Alurin Go Start Intel Celeron N4020/8GB/256GB ...</td>\n",
       "      <td>New</td>\n",
       "      <td>Alurin</td>\n",
       "      <td>Go</td>\n",
       "      <td>Intel Celeron</td>\n",
       "      <td>8</td>\n",
       "      <td>256</td>\n",
       "      <td>SSD</td>\n",
       "      <td>NaN</td>\n",
       "      <td>15.6</td>\n",
       "      <td>No</td>\n",
       "      <td>299.00</td>\n",
       "    </tr>\n",
       "    <tr>\n",
       "      <th>2</th>\n",
       "      <td>ASUS ExpertBook B1 B1502CBA-EJ0424X Intel Core...</td>\n",
       "      <td>New</td>\n",
       "      <td>Asus</td>\n",
       "      <td>ExpertBook</td>\n",
       "      <td>Intel Core i3</td>\n",
       "      <td>8</td>\n",
       "      <td>256</td>\n",
       "      <td>SSD</td>\n",
       "      <td>NaN</td>\n",
       "      <td>15.6</td>\n",
       "      <td>No</td>\n",
       "      <td>789.00</td>\n",
       "    </tr>\n",
       "    <tr>\n",
       "      <th>3</th>\n",
       "      <td>MSI Katana GF66 12UC-082XES Intel Core i7-1270...</td>\n",
       "      <td>New</td>\n",
       "      <td>MSI</td>\n",
       "      <td>Katana</td>\n",
       "      <td>Intel Core i7</td>\n",
       "      <td>16</td>\n",
       "      <td>1000</td>\n",
       "      <td>SSD</td>\n",
       "      <td>RTX 3050</td>\n",
       "      <td>15.6</td>\n",
       "      <td>No</td>\n",
       "      <td>1199.00</td>\n",
       "    </tr>\n",
       "    <tr>\n",
       "      <th>4</th>\n",
       "      <td>HP 15S-FQ5085NS Intel Core i5-1235U/16GB/512GB...</td>\n",
       "      <td>New</td>\n",
       "      <td>HP</td>\n",
       "      <td>15S</td>\n",
       "      <td>Intel Core i5</td>\n",
       "      <td>16</td>\n",
       "      <td>512</td>\n",
       "      <td>SSD</td>\n",
       "      <td>NaN</td>\n",
       "      <td>15.6</td>\n",
       "      <td>No</td>\n",
       "      <td>669.01</td>\n",
       "    </tr>\n",
       "  </tbody>\n",
       "</table>\n",
       "</div>"
      ],
      "text/plain": [
       "                                              Laptop Status   Brand  \\\n",
       "0  ASUS ExpertBook B1 B1502CBA-EJ0436X Intel Core...    New    Asus   \n",
       "1  Alurin Go Start Intel Celeron N4020/8GB/256GB ...    New  Alurin   \n",
       "2  ASUS ExpertBook B1 B1502CBA-EJ0424X Intel Core...    New    Asus   \n",
       "3  MSI Katana GF66 12UC-082XES Intel Core i7-1270...    New     MSI   \n",
       "4  HP 15S-FQ5085NS Intel Core i5-1235U/16GB/512GB...    New      HP   \n",
       "\n",
       "        Model            CPU  RAM  Storage Storage type       GPU  Screen  \\\n",
       "0  ExpertBook  Intel Core i5    8      512          SSD       NaN    15.6   \n",
       "1          Go  Intel Celeron    8      256          SSD       NaN    15.6   \n",
       "2  ExpertBook  Intel Core i3    8      256          SSD       NaN    15.6   \n",
       "3      Katana  Intel Core i7   16     1000          SSD  RTX 3050    15.6   \n",
       "4         15S  Intel Core i5   16      512          SSD       NaN    15.6   \n",
       "\n",
       "  Touch  Final Price  \n",
       "0    No      1009.00  \n",
       "1    No       299.00  \n",
       "2    No       789.00  \n",
       "3    No      1199.00  \n",
       "4    No       669.01  "
      ]
     },
     "execution_count": 28,
     "metadata": {},
     "output_type": "execute_result"
    }
   ],
   "source": [
    "laptop_df3.head()"
   ]
  },
  {
   "cell_type": "code",
   "execution_count": 29,
   "id": "572b4bfc",
   "metadata": {},
   "outputs": [
    {
     "data": {
      "application/vnd.microsoft.datawrangler.viewer.v0+json": {
       "columns": [
        {
         "name": "index",
         "rawType": "int64",
         "type": "integer"
        },
        {
         "name": "CPU Model",
         "rawType": "object",
         "type": "string"
        },
        {
         "name": "CPU Score",
         "rawType": "int64",
         "type": "integer"
        }
       ],
       "ref": "187fdbaa-71b8-4415-ae4d-85a4d65bacf9",
       "rows": [
        [
         "0",
         "AArch64",
         "833"
        ],
        [
         "1",
         "AArch64 rev 2 (aarch64)",
         "2409"
        ],
        [
         "2",
         "AArch64 rev 4 (aarch64)",
         "1813"
        ],
        [
         "3",
         "AC8257V/WAB",
         "788"
        ],
        [
         "4",
         "AC8259V/WAB",
         "910"
        ]
       ],
       "shape": {
        "columns": 2,
        "rows": 5
       }
      },
      "text/html": [
       "<div>\n",
       "<style scoped>\n",
       "    .dataframe tbody tr th:only-of-type {\n",
       "        vertical-align: middle;\n",
       "    }\n",
       "\n",
       "    .dataframe tbody tr th {\n",
       "        vertical-align: top;\n",
       "    }\n",
       "\n",
       "    .dataframe thead th {\n",
       "        text-align: right;\n",
       "    }\n",
       "</style>\n",
       "<table border=\"1\" class=\"dataframe\">\n",
       "  <thead>\n",
       "    <tr style=\"text-align: right;\">\n",
       "      <th></th>\n",
       "      <th>CPU Model</th>\n",
       "      <th>CPU Score</th>\n",
       "    </tr>\n",
       "  </thead>\n",
       "  <tbody>\n",
       "    <tr>\n",
       "      <th>0</th>\n",
       "      <td>AArch64</td>\n",
       "      <td>833</td>\n",
       "    </tr>\n",
       "    <tr>\n",
       "      <th>1</th>\n",
       "      <td>AArch64 rev 2 (aarch64)</td>\n",
       "      <td>2409</td>\n",
       "    </tr>\n",
       "    <tr>\n",
       "      <th>2</th>\n",
       "      <td>AArch64 rev 4 (aarch64)</td>\n",
       "      <td>1813</td>\n",
       "    </tr>\n",
       "    <tr>\n",
       "      <th>3</th>\n",
       "      <td>AC8257V/WAB</td>\n",
       "      <td>788</td>\n",
       "    </tr>\n",
       "    <tr>\n",
       "      <th>4</th>\n",
       "      <td>AC8259V/WAB</td>\n",
       "      <td>910</td>\n",
       "    </tr>\n",
       "  </tbody>\n",
       "</table>\n",
       "</div>"
      ],
      "text/plain": [
       "                 CPU Model  CPU Score\n",
       "0                  AArch64        833\n",
       "1  AArch64 rev 2 (aarch64)       2409\n",
       "2  AArch64 rev 4 (aarch64)       1813\n",
       "3              AC8257V/WAB        788\n",
       "4              AC8259V/WAB        910"
      ]
     },
     "execution_count": 29,
     "metadata": {},
     "output_type": "execute_result"
    }
   ],
   "source": [
    "cpu_df.head()"
   ]
  },
  {
   "cell_type": "code",
   "execution_count": 30,
   "id": "18dcd886",
   "metadata": {},
   "outputs": [
    {
     "data": {
      "application/vnd.microsoft.datawrangler.viewer.v0+json": {
       "columns": [
        {
         "name": "index",
         "rawType": "int64",
         "type": "integer"
        },
        {
         "name": "GPU Model",
         "rawType": "object",
         "type": "string"
        },
        {
         "name": "GPU Score",
         "rawType": "int64",
         "type": "integer"
        }
       ],
       "ref": "9afbd2c9-a5a1-4806-b6f7-b210b77aee7b",
       "rows": [
        [
         "0",
         "256MB DDR Radeon 9800 XT",
         "37"
        ],
        [
         "1",
         "6FDF:FF",
         "9528"
        ],
        [
         "2",
         "7900 MOD - Radeon HD 6520G",
         "610"
        ],
        [
         "3",
         "7900 MOD - Radeon HD 6550D",
         "892"
        ],
        [
         "4",
         "A10-12Q",
         "9493"
        ]
       ],
       "shape": {
        "columns": 2,
        "rows": 5
       }
      },
      "text/html": [
       "<div>\n",
       "<style scoped>\n",
       "    .dataframe tbody tr th:only-of-type {\n",
       "        vertical-align: middle;\n",
       "    }\n",
       "\n",
       "    .dataframe tbody tr th {\n",
       "        vertical-align: top;\n",
       "    }\n",
       "\n",
       "    .dataframe thead th {\n",
       "        text-align: right;\n",
       "    }\n",
       "</style>\n",
       "<table border=\"1\" class=\"dataframe\">\n",
       "  <thead>\n",
       "    <tr style=\"text-align: right;\">\n",
       "      <th></th>\n",
       "      <th>GPU Model</th>\n",
       "      <th>GPU Score</th>\n",
       "    </tr>\n",
       "  </thead>\n",
       "  <tbody>\n",
       "    <tr>\n",
       "      <th>0</th>\n",
       "      <td>256MB DDR Radeon 9800 XT</td>\n",
       "      <td>37</td>\n",
       "    </tr>\n",
       "    <tr>\n",
       "      <th>1</th>\n",
       "      <td>6FDF:FF</td>\n",
       "      <td>9528</td>\n",
       "    </tr>\n",
       "    <tr>\n",
       "      <th>2</th>\n",
       "      <td>7900 MOD - Radeon HD 6520G</td>\n",
       "      <td>610</td>\n",
       "    </tr>\n",
       "    <tr>\n",
       "      <th>3</th>\n",
       "      <td>7900 MOD - Radeon HD 6550D</td>\n",
       "      <td>892</td>\n",
       "    </tr>\n",
       "    <tr>\n",
       "      <th>4</th>\n",
       "      <td>A10-12Q</td>\n",
       "      <td>9493</td>\n",
       "    </tr>\n",
       "  </tbody>\n",
       "</table>\n",
       "</div>"
      ],
      "text/plain": [
       "                    GPU Model  GPU Score\n",
       "0    256MB DDR Radeon 9800 XT         37\n",
       "1                     6FDF:FF       9528\n",
       "2  7900 MOD - Radeon HD 6520G        610\n",
       "3  7900 MOD - Radeon HD 6550D        892\n",
       "4                     A10-12Q       9493"
      ]
     },
     "execution_count": 30,
     "metadata": {},
     "output_type": "execute_result"
    }
   ],
   "source": [
    "gpu_df.head()"
   ]
  },
  {
   "cell_type": "code",
   "execution_count": 31,
   "id": "3b0b62da",
   "metadata": {},
   "outputs": [
    {
     "data": {
      "application/vnd.microsoft.datawrangler.viewer.v0+json": {
       "columns": [
        {
         "name": "index",
         "rawType": "int64",
         "type": "integer"
        },
        {
         "name": "Game",
         "rawType": "object",
         "type": "string"
        },
        {
         "name": "Category",
         "rawType": "object",
         "type": "string"
        },
        {
         "name": "Description",
         "rawType": "object",
         "type": "string"
        },
        {
         "name": "CPU",
         "rawType": "object",
         "type": "string"
        },
        {
         "name": "GPU",
         "rawType": "object",
         "type": "string"
        },
        {
         "name": "RAM",
         "rawType": "object",
         "type": "string"
        },
        {
         "name": "File Size",
         "rawType": "object",
         "type": "string"
        }
       ],
       "ref": "e02d11d7-1acc-41f0-b075-1b8fbc91796b",
       "rows": [
        [
         "0",
         "inZOI",
         "Casual / Adventure / Simulation",
         "\"Every life becomes a story\" Create your unique story by controlling and observing the lives of 'Zois'. Customize characters and build houses using inZOI's easy-to-use tools to live the life of your dreams and experience the different emotions of life created by its deep and detailed simulation.",
         "Intel Core i5-10400  / Ryzen 5 3600",
         "NVIDIA GeForce RTX 2060  / Radeon RX 5600 XT",
         "12 GB",
         "60 GB"
        ],
        [
         "1",
         "Assassin's Creed Shadows",
         "Action / RPG / Adventure",
         "Experience an epic action-adventure story set in feudal Japan! Become a lethal shinobi assassin and powerful legendary samurai as you explore a beautiful open world in a time of chaos.",
         "Intel Core i7-8700K  / Ryzen 5 3600",
         "NVIDIA GeForce GTX 1070  / Radeon RX 5700",
         "16 GB",
         "100 GB"
        ],
        [
         "2",
         "Grand Theft Auto V",
         "Action / Racing / Adventure",
         "Grand Theft Auto V: Enhanced Edition is an upgraded version of the classic open-world game, featuring improved graphics, faster loading times, and new content. Explore Los Santos with ray-traced lighting, enhanced textures, and smoother performance. Enjoy new vehicles, missions, and updates in both Story Mode and GTA Online. Whether you're revisiting or playing for the first time, this edition offers the most immersive GTA V experience yet.",
         "Intel Core i7-4770  / FX-9590",
         "NVIDIA GeForce GTX 1630  / Radeon RX 6400",
         "8 GB",
         "105 GB"
        ],
        [
         "3",
         "Schedule I",
         "Action / Strategy / Indie",
         "From small-time dope pusher to kingpin - manufacture and distribute a range of drugs throughout the grungy city of Hyland Point. Expand your empire with properties, businesses, employees and more.",
         "Intel Core i5-1300F",
         "AMD Radeon RX 580  / GeForce GTX 1060",
         "8 GB",
         "8 GB"
        ],
        [
         "4",
         "R.E.P.O.",
         "Action / Early Access",
         "An online co-op horror game with up to 6 players. Locate valuable, fully physics-based objects and handle them with care as you retrieve and extract to satisfy your creator's desires.",
         "Intel Core i5-6600",
         "NVIDIA GeForce GTX 970",
         "8 GB",
         "1 GB"
        ]
       ],
       "shape": {
        "columns": 7,
        "rows": 5
       }
      },
      "text/html": [
       "<div>\n",
       "<style scoped>\n",
       "    .dataframe tbody tr th:only-of-type {\n",
       "        vertical-align: middle;\n",
       "    }\n",
       "\n",
       "    .dataframe tbody tr th {\n",
       "        vertical-align: top;\n",
       "    }\n",
       "\n",
       "    .dataframe thead th {\n",
       "        text-align: right;\n",
       "    }\n",
       "</style>\n",
       "<table border=\"1\" class=\"dataframe\">\n",
       "  <thead>\n",
       "    <tr style=\"text-align: right;\">\n",
       "      <th></th>\n",
       "      <th>Game</th>\n",
       "      <th>Category</th>\n",
       "      <th>Description</th>\n",
       "      <th>CPU</th>\n",
       "      <th>GPU</th>\n",
       "      <th>RAM</th>\n",
       "      <th>File Size</th>\n",
       "    </tr>\n",
       "  </thead>\n",
       "  <tbody>\n",
       "    <tr>\n",
       "      <th>0</th>\n",
       "      <td>inZOI</td>\n",
       "      <td>Casual / Adventure / Simulation</td>\n",
       "      <td>\"Every life becomes a story\" Create your uniqu...</td>\n",
       "      <td>Intel Core i5-10400  / Ryzen 5 3600</td>\n",
       "      <td>NVIDIA GeForce RTX 2060  / Radeon RX 5600 XT</td>\n",
       "      <td>12 GB</td>\n",
       "      <td>60 GB</td>\n",
       "    </tr>\n",
       "    <tr>\n",
       "      <th>1</th>\n",
       "      <td>Assassin's Creed Shadows</td>\n",
       "      <td>Action / RPG / Adventure</td>\n",
       "      <td>Experience an epic action-adventure story set ...</td>\n",
       "      <td>Intel Core i7-8700K  / Ryzen 5 3600</td>\n",
       "      <td>NVIDIA GeForce GTX 1070  / Radeon RX 5700</td>\n",
       "      <td>16 GB</td>\n",
       "      <td>100 GB</td>\n",
       "    </tr>\n",
       "    <tr>\n",
       "      <th>2</th>\n",
       "      <td>Grand Theft Auto V</td>\n",
       "      <td>Action / Racing / Adventure</td>\n",
       "      <td>Grand Theft Auto V: Enhanced Edition is an upg...</td>\n",
       "      <td>Intel Core i7-4770  / FX-9590</td>\n",
       "      <td>NVIDIA GeForce GTX 1630  / Radeon RX 6400</td>\n",
       "      <td>8 GB</td>\n",
       "      <td>105 GB</td>\n",
       "    </tr>\n",
       "    <tr>\n",
       "      <th>3</th>\n",
       "      <td>Schedule I</td>\n",
       "      <td>Action / Strategy / Indie</td>\n",
       "      <td>From small-time dope pusher to kingpin - manuf...</td>\n",
       "      <td>Intel Core i5-1300F</td>\n",
       "      <td>AMD Radeon RX 580  / GeForce GTX 1060</td>\n",
       "      <td>8 GB</td>\n",
       "      <td>8 GB</td>\n",
       "    </tr>\n",
       "    <tr>\n",
       "      <th>4</th>\n",
       "      <td>R.E.P.O.</td>\n",
       "      <td>Action / Early Access</td>\n",
       "      <td>An online co-op horror game with up to 6 playe...</td>\n",
       "      <td>Intel Core i5-6600</td>\n",
       "      <td>NVIDIA GeForce GTX 970</td>\n",
       "      <td>8 GB</td>\n",
       "      <td>1 GB</td>\n",
       "    </tr>\n",
       "  </tbody>\n",
       "</table>\n",
       "</div>"
      ],
      "text/plain": [
       "                       Game                         Category  \\\n",
       "0                     inZOI  Casual / Adventure / Simulation   \n",
       "1  Assassin's Creed Shadows         Action / RPG / Adventure   \n",
       "2        Grand Theft Auto V      Action / Racing / Adventure   \n",
       "3                Schedule I        Action / Strategy / Indie   \n",
       "4                  R.E.P.O.            Action / Early Access   \n",
       "\n",
       "                                         Description  \\\n",
       "0  \"Every life becomes a story\" Create your uniqu...   \n",
       "1  Experience an epic action-adventure story set ...   \n",
       "2  Grand Theft Auto V: Enhanced Edition is an upg...   \n",
       "3  From small-time dope pusher to kingpin - manuf...   \n",
       "4  An online co-op horror game with up to 6 playe...   \n",
       "\n",
       "                                   CPU  \\\n",
       "0  Intel Core i5-10400  / Ryzen 5 3600   \n",
       "1  Intel Core i7-8700K  / Ryzen 5 3600   \n",
       "2        Intel Core i7-4770  / FX-9590   \n",
       "3                  Intel Core i5-1300F   \n",
       "4                   Intel Core i5-6600   \n",
       "\n",
       "                                            GPU    RAM File Size  \n",
       "0  NVIDIA GeForce RTX 2060  / Radeon RX 5600 XT  12 GB     60 GB  \n",
       "1     NVIDIA GeForce GTX 1070  / Radeon RX 5700  16 GB    100 GB  \n",
       "2     NVIDIA GeForce GTX 1630  / Radeon RX 6400   8 GB    105 GB  \n",
       "3         AMD Radeon RX 580  / GeForce GTX 1060   8 GB      8 GB  \n",
       "4                        NVIDIA GeForce GTX 970   8 GB      1 GB  "
      ]
     },
     "execution_count": 31,
     "metadata": {},
     "output_type": "execute_result"
    }
   ],
   "source": [
    "minspecs_game_df.head()"
   ]
  },
  {
   "cell_type": "code",
   "execution_count": 32,
   "id": "edd3f017",
   "metadata": {},
   "outputs": [
    {
     "data": {
      "application/vnd.microsoft.datawrangler.viewer.v0+json": {
       "columns": [
        {
         "name": "index",
         "rawType": "int64",
         "type": "integer"
        },
        {
         "name": "Game",
         "rawType": "object",
         "type": "string"
        },
        {
         "name": "Category",
         "rawType": "object",
         "type": "string"
        },
        {
         "name": "Description",
         "rawType": "object",
         "type": "string"
        },
        {
         "name": "CPU",
         "rawType": "object",
         "type": "string"
        },
        {
         "name": "GPU",
         "rawType": "object",
         "type": "string"
        },
        {
         "name": "RAM",
         "rawType": "object",
         "type": "string"
        },
        {
         "name": "File Size",
         "rawType": "object",
         "type": "string"
        }
       ],
       "ref": "03e10059-99ad-4718-b56f-7bfb6f087ed1",
       "rows": [
        [
         "0",
         "inZOI",
         "Casual / Adventure / Simulation",
         "\"Every life becomes a story\" Create your unique story by controlling and observing the lives of 'Zois'. Customize characters and build houses using inZOI's easy-to-use tools to live the life of your dreams and experience the different emotions of life created by its deep and detailed simulation.",
         "Intel Core i7-12700  / Ryzen 7 5800X3D",
         "NVIDIA GeForce RTX 3070 Ti  / Radeon RX 6800 XT",
         "16 GB",
         "75 GB"
        ],
        [
         "1",
         "Assassin's Creed Shadows",
         "Action / RPG / Adventure",
         "Experience an epic action-adventure story set in feudal Japan! Become a lethal shinobi assassin and powerful legendary samurai as you explore a beautiful open world in a time of chaos.",
         "Intel Core i5-11600K  / Ryzen 5 5600X",
         "NVIDIA GeForce RTX 3060 Ti  / Radeon RX 6700 XT",
         "16 GB",
         "100 GB"
        ],
        [
         "2",
         "Grand Theft Auto V",
         "Action / Racing / Adventure",
         "Grand Theft Auto V: Enhanced Edition is an upgraded version of the classic open-world game, featuring improved graphics, faster loading times, and new content. Explore Los Santos with ray-traced lighting, enhanced textures, and smoother performance. Enjoy new vehicles, missions, and updates in both Story Mode and GTA Online. Whether you're revisiting or playing for the first time, this edition offers the most immersive GTA V experience yet.",
         "Intel Core i5-9600K  / Ryzen 5 3600",
         "NVIDIA GeForce RTX 3060  / Radeon RX 6600 XT",
         "16 GB",
         "105 GB"
        ],
        [
         "3",
         "Schedule I",
         "Action / Strategy / Indie",
         "From small-time dope pusher to kingpin - manufacture and distribute a range of drugs throughout the grungy city of Hyland Point. Expand your empire with properties, businesses, employees and more.",
         "Intel Core i5-1300F",
         "AMD Radeon RX 6700  / GeForce RTX 3060",
         "16 GB",
         "8 GB"
        ],
        [
         "4",
         "R.E.P.O.",
         "Action / Early Access",
         "An online co-op horror game with up to 6 players. Locate valuable, fully physics-based objects and handle them with care as you retrieve and extract to satisfy your creator's desires.",
         "Intel Core i7-8700",
         "NVIDIA GeForce GTX 1070",
         "8 GB",
         "1 GB"
        ]
       ],
       "shape": {
        "columns": 7,
        "rows": 5
       }
      },
      "text/html": [
       "<div>\n",
       "<style scoped>\n",
       "    .dataframe tbody tr th:only-of-type {\n",
       "        vertical-align: middle;\n",
       "    }\n",
       "\n",
       "    .dataframe tbody tr th {\n",
       "        vertical-align: top;\n",
       "    }\n",
       "\n",
       "    .dataframe thead th {\n",
       "        text-align: right;\n",
       "    }\n",
       "</style>\n",
       "<table border=\"1\" class=\"dataframe\">\n",
       "  <thead>\n",
       "    <tr style=\"text-align: right;\">\n",
       "      <th></th>\n",
       "      <th>Game</th>\n",
       "      <th>Category</th>\n",
       "      <th>Description</th>\n",
       "      <th>CPU</th>\n",
       "      <th>GPU</th>\n",
       "      <th>RAM</th>\n",
       "      <th>File Size</th>\n",
       "    </tr>\n",
       "  </thead>\n",
       "  <tbody>\n",
       "    <tr>\n",
       "      <th>0</th>\n",
       "      <td>inZOI</td>\n",
       "      <td>Casual / Adventure / Simulation</td>\n",
       "      <td>\"Every life becomes a story\" Create your uniqu...</td>\n",
       "      <td>Intel Core i7-12700  / Ryzen 7 5800X3D</td>\n",
       "      <td>NVIDIA GeForce RTX 3070 Ti  / Radeon RX 6800 XT</td>\n",
       "      <td>16 GB</td>\n",
       "      <td>75 GB</td>\n",
       "    </tr>\n",
       "    <tr>\n",
       "      <th>1</th>\n",
       "      <td>Assassin's Creed Shadows</td>\n",
       "      <td>Action / RPG / Adventure</td>\n",
       "      <td>Experience an epic action-adventure story set ...</td>\n",
       "      <td>Intel Core i5-11600K  / Ryzen 5 5600X</td>\n",
       "      <td>NVIDIA GeForce RTX 3060 Ti  / Radeon RX 6700 XT</td>\n",
       "      <td>16 GB</td>\n",
       "      <td>100 GB</td>\n",
       "    </tr>\n",
       "    <tr>\n",
       "      <th>2</th>\n",
       "      <td>Grand Theft Auto V</td>\n",
       "      <td>Action / Racing / Adventure</td>\n",
       "      <td>Grand Theft Auto V: Enhanced Edition is an upg...</td>\n",
       "      <td>Intel Core i5-9600K  / Ryzen 5 3600</td>\n",
       "      <td>NVIDIA GeForce RTX 3060  / Radeon RX 6600 XT</td>\n",
       "      <td>16 GB</td>\n",
       "      <td>105 GB</td>\n",
       "    </tr>\n",
       "    <tr>\n",
       "      <th>3</th>\n",
       "      <td>Schedule I</td>\n",
       "      <td>Action / Strategy / Indie</td>\n",
       "      <td>From small-time dope pusher to kingpin - manuf...</td>\n",
       "      <td>Intel Core i5-1300F</td>\n",
       "      <td>AMD Radeon RX 6700  / GeForce RTX 3060</td>\n",
       "      <td>16 GB</td>\n",
       "      <td>8 GB</td>\n",
       "    </tr>\n",
       "    <tr>\n",
       "      <th>4</th>\n",
       "      <td>R.E.P.O.</td>\n",
       "      <td>Action / Early Access</td>\n",
       "      <td>An online co-op horror game with up to 6 playe...</td>\n",
       "      <td>Intel Core i7-8700</td>\n",
       "      <td>NVIDIA GeForce GTX 1070</td>\n",
       "      <td>8 GB</td>\n",
       "      <td>1 GB</td>\n",
       "    </tr>\n",
       "  </tbody>\n",
       "</table>\n",
       "</div>"
      ],
      "text/plain": [
       "                       Game                         Category  \\\n",
       "0                     inZOI  Casual / Adventure / Simulation   \n",
       "1  Assassin's Creed Shadows         Action / RPG / Adventure   \n",
       "2        Grand Theft Auto V      Action / Racing / Adventure   \n",
       "3                Schedule I        Action / Strategy / Indie   \n",
       "4                  R.E.P.O.            Action / Early Access   \n",
       "\n",
       "                                         Description  \\\n",
       "0  \"Every life becomes a story\" Create your uniqu...   \n",
       "1  Experience an epic action-adventure story set ...   \n",
       "2  Grand Theft Auto V: Enhanced Edition is an upg...   \n",
       "3  From small-time dope pusher to kingpin - manuf...   \n",
       "4  An online co-op horror game with up to 6 playe...   \n",
       "\n",
       "                                      CPU  \\\n",
       "0  Intel Core i7-12700  / Ryzen 7 5800X3D   \n",
       "1   Intel Core i5-11600K  / Ryzen 5 5600X   \n",
       "2     Intel Core i5-9600K  / Ryzen 5 3600   \n",
       "3                     Intel Core i5-1300F   \n",
       "4                      Intel Core i7-8700   \n",
       "\n",
       "                                               GPU    RAM File Size  \n",
       "0  NVIDIA GeForce RTX 3070 Ti  / Radeon RX 6800 XT  16 GB     75 GB  \n",
       "1  NVIDIA GeForce RTX 3060 Ti  / Radeon RX 6700 XT  16 GB    100 GB  \n",
       "2     NVIDIA GeForce RTX 3060  / Radeon RX 6600 XT  16 GB    105 GB  \n",
       "3           AMD Radeon RX 6700  / GeForce RTX 3060  16 GB      8 GB  \n",
       "4                          NVIDIA GeForce GTX 1070   8 GB      1 GB  "
      ]
     },
     "execution_count": 32,
     "metadata": {},
     "output_type": "execute_result"
    }
   ],
   "source": [
    "recspecs_game_df.head()"
   ]
  },
  {
   "cell_type": "code",
   "execution_count": 33,
   "id": "fffee389",
   "metadata": {},
   "outputs": [
    {
     "data": {
      "application/vnd.microsoft.datawrangler.viewer.v0+json": {
       "columns": [
        {
         "name": "index",
         "rawType": "int64",
         "type": "integer"
        },
        {
         "name": "App",
         "rawType": "object",
         "type": "string"
        },
        {
         "name": "Category",
         "rawType": "object",
         "type": "string"
        },
        {
         "name": "CPU",
         "rawType": "object",
         "type": "string"
        },
        {
         "name": "GPU",
         "rawType": "object",
         "type": "string"
        },
        {
         "name": "RAM",
         "rawType": "object",
         "type": "string"
        },
        {
         "name": "Description",
         "rawType": "object",
         "type": "string"
        }
       ],
       "ref": "23e6c0e5-bd56-49e9-a987-10c78d3c1459",
       "rows": [
        [
         "0",
         "Adobe Premiere Pro",
         "Video",
         "Intel Core i5-6500 / AMD Ryzen 5 1400",
         "NVIDIA GTX 1050 Ti / AMD RX 560",
         "8GB",
         "Professional timeline-based video editing software for film, TV, and web."
        ],
        [
         "1",
         "Adobe Photoshop",
         "Design",
         "Intel Core i3-6100 / AMD Ryzen 3 1200",
         "NVIDIA GT 1030 / AMD RX 550",
         "8GB",
         "Industry-standard raster graphics editor for photo editing and digital art."
        ],
        [
         "2",
         "DaVinci Resolve",
         "Video",
         "Intel Core i5-7400 / AMD Ryzen 5 1400",
         "NVIDIA GTX 1050 Ti / AMD RX 570",
         "8GB",
         "Professional color correction and non-linear video editing software."
        ],
        [
         "3",
         "Blender",
         "3D",
         "Intel Core i5-6500 / AMD Ryzen 5 1400",
         "NVIDIA GTX 1050 / AMD RX 560",
         "8GB",
         "Free and open-source 3D creation suite for modeling, animation, and rendering."
        ],
        [
         "4",
         "Autodesk Maya",
         "3D",
         "Intel Core i5-7500 / AMD Ryzen 5 1600",
         "NVIDIA GTX 1050 Ti / AMD RX 570",
         "8GB",
         "Professional 3D computer graphics software for animation, modeling, and rendering."
        ]
       ],
       "shape": {
        "columns": 6,
        "rows": 5
       }
      },
      "text/html": [
       "<div>\n",
       "<style scoped>\n",
       "    .dataframe tbody tr th:only-of-type {\n",
       "        vertical-align: middle;\n",
       "    }\n",
       "\n",
       "    .dataframe tbody tr th {\n",
       "        vertical-align: top;\n",
       "    }\n",
       "\n",
       "    .dataframe thead th {\n",
       "        text-align: right;\n",
       "    }\n",
       "</style>\n",
       "<table border=\"1\" class=\"dataframe\">\n",
       "  <thead>\n",
       "    <tr style=\"text-align: right;\">\n",
       "      <th></th>\n",
       "      <th>App</th>\n",
       "      <th>Category</th>\n",
       "      <th>CPU</th>\n",
       "      <th>GPU</th>\n",
       "      <th>RAM</th>\n",
       "      <th>Description</th>\n",
       "    </tr>\n",
       "  </thead>\n",
       "  <tbody>\n",
       "    <tr>\n",
       "      <th>0</th>\n",
       "      <td>Adobe Premiere Pro</td>\n",
       "      <td>Video</td>\n",
       "      <td>Intel Core i5-6500 / AMD Ryzen 5 1400</td>\n",
       "      <td>NVIDIA GTX 1050 Ti / AMD RX 560</td>\n",
       "      <td>8GB</td>\n",
       "      <td>Professional timeline-based video editing soft...</td>\n",
       "    </tr>\n",
       "    <tr>\n",
       "      <th>1</th>\n",
       "      <td>Adobe Photoshop</td>\n",
       "      <td>Design</td>\n",
       "      <td>Intel Core i3-6100 / AMD Ryzen 3 1200</td>\n",
       "      <td>NVIDIA GT 1030 / AMD RX 550</td>\n",
       "      <td>8GB</td>\n",
       "      <td>Industry-standard raster graphics editor for p...</td>\n",
       "    </tr>\n",
       "    <tr>\n",
       "      <th>2</th>\n",
       "      <td>DaVinci Resolve</td>\n",
       "      <td>Video</td>\n",
       "      <td>Intel Core i5-7400 / AMD Ryzen 5 1400</td>\n",
       "      <td>NVIDIA GTX 1050 Ti / AMD RX 570</td>\n",
       "      <td>8GB</td>\n",
       "      <td>Professional color correction and non-linear v...</td>\n",
       "    </tr>\n",
       "    <tr>\n",
       "      <th>3</th>\n",
       "      <td>Blender</td>\n",
       "      <td>3D</td>\n",
       "      <td>Intel Core i5-6500 / AMD Ryzen 5 1400</td>\n",
       "      <td>NVIDIA GTX 1050 / AMD RX 560</td>\n",
       "      <td>8GB</td>\n",
       "      <td>Free and open-source 3D creation suite for mod...</td>\n",
       "    </tr>\n",
       "    <tr>\n",
       "      <th>4</th>\n",
       "      <td>Autodesk Maya</td>\n",
       "      <td>3D</td>\n",
       "      <td>Intel Core i5-7500 / AMD Ryzen 5 1600</td>\n",
       "      <td>NVIDIA GTX 1050 Ti / AMD RX 570</td>\n",
       "      <td>8GB</td>\n",
       "      <td>Professional 3D computer graphics software for...</td>\n",
       "    </tr>\n",
       "  </tbody>\n",
       "</table>\n",
       "</div>"
      ],
      "text/plain": [
       "                  App Category                                    CPU  \\\n",
       "0  Adobe Premiere Pro    Video  Intel Core i5-6500 / AMD Ryzen 5 1400   \n",
       "1     Adobe Photoshop   Design  Intel Core i3-6100 / AMD Ryzen 3 1200   \n",
       "2     DaVinci Resolve    Video  Intel Core i5-7400 / AMD Ryzen 5 1400   \n",
       "3             Blender       3D  Intel Core i5-6500 / AMD Ryzen 5 1400   \n",
       "4       Autodesk Maya       3D  Intel Core i5-7500 / AMD Ryzen 5 1600   \n",
       "\n",
       "                               GPU  RAM  \\\n",
       "0  NVIDIA GTX 1050 Ti / AMD RX 560  8GB   \n",
       "1      NVIDIA GT 1030 / AMD RX 550  8GB   \n",
       "2  NVIDIA GTX 1050 Ti / AMD RX 570  8GB   \n",
       "3     NVIDIA GTX 1050 / AMD RX 560  8GB   \n",
       "4  NVIDIA GTX 1050 Ti / AMD RX 570  8GB   \n",
       "\n",
       "                                         Description  \n",
       "0  Professional timeline-based video editing soft...  \n",
       "1  Industry-standard raster graphics editor for p...  \n",
       "2  Professional color correction and non-linear v...  \n",
       "3  Free and open-source 3D creation suite for mod...  \n",
       "4  Professional 3D computer graphics software for...  "
      ]
     },
     "execution_count": 33,
     "metadata": {},
     "output_type": "execute_result"
    }
   ],
   "source": [
    "minspecs_app_df.head()"
   ]
  },
  {
   "cell_type": "code",
   "execution_count": 34,
   "id": "4e1522b7",
   "metadata": {},
   "outputs": [
    {
     "data": {
      "application/vnd.microsoft.datawrangler.viewer.v0+json": {
       "columns": [
        {
         "name": "index",
         "rawType": "int64",
         "type": "integer"
        },
        {
         "name": "App",
         "rawType": "object",
         "type": "string"
        },
        {
         "name": "Category",
         "rawType": "object",
         "type": "string"
        },
        {
         "name": "CPU",
         "rawType": "object",
         "type": "string"
        },
        {
         "name": "GPU",
         "rawType": "object",
         "type": "string"
        },
        {
         "name": "RAM",
         "rawType": "object",
         "type": "string"
        },
        {
         "name": "Description",
         "rawType": "object",
         "type": "string"
        }
       ],
       "ref": "f62369a2-bbd1-441a-acb6-fe2ca66531fd",
       "rows": [
        [
         "0",
         "Adobe Premiere Pro",
         "Video",
         "Intel Core i7-13700 / AMD Ryzen 7 7700X",
         "NVIDIA RTX 4070 / AMD RX 7800 XT",
         "64GB",
         "Professional timeline-based video editing software for film, TV, and web."
        ],
        [
         "1",
         "Adobe Photoshop",
         "Design",
         "Intel Core i5-13600K / AMD Ryzen 5 7600X",
         "NVIDIA RTX 4060 Ti / AMD RX 7700 XT",
         "32GB",
         "Industry-standard raster graphics editor for photo editing and digital art."
        ],
        [
         "2",
         "DaVinci Resolve",
         "Video",
         "Intel Core i9-13900 / AMD Ryzen 9 7900X",
         "NVIDIA RTX 4080 / AMD RX 7900 XT",
         "64GB",
         "Professional color correction and non-linear video editing software."
        ],
        [
         "3",
         "Blender",
         "3D",
         "Intel Core i7-13700 / AMD Ryzen 7 7700X",
         "NVIDIA RTX 4070 / AMD RX 7800 XT",
         "64GB",
         "Free and open-source 3D creation suite for modeling, animation, and rendering."
        ],
        [
         "4",
         "Autodesk Maya",
         "3D",
         "Intel Core i9-13900 / AMD Ryzen 9 7900X",
         "NVIDIA RTX 4080 / AMD RX 7900 XT",
         "64GB",
         "Professional 3D computer graphics software for animation, modeling, and rendering."
        ]
       ],
       "shape": {
        "columns": 6,
        "rows": 5
       }
      },
      "text/html": [
       "<div>\n",
       "<style scoped>\n",
       "    .dataframe tbody tr th:only-of-type {\n",
       "        vertical-align: middle;\n",
       "    }\n",
       "\n",
       "    .dataframe tbody tr th {\n",
       "        vertical-align: top;\n",
       "    }\n",
       "\n",
       "    .dataframe thead th {\n",
       "        text-align: right;\n",
       "    }\n",
       "</style>\n",
       "<table border=\"1\" class=\"dataframe\">\n",
       "  <thead>\n",
       "    <tr style=\"text-align: right;\">\n",
       "      <th></th>\n",
       "      <th>App</th>\n",
       "      <th>Category</th>\n",
       "      <th>CPU</th>\n",
       "      <th>GPU</th>\n",
       "      <th>RAM</th>\n",
       "      <th>Description</th>\n",
       "    </tr>\n",
       "  </thead>\n",
       "  <tbody>\n",
       "    <tr>\n",
       "      <th>0</th>\n",
       "      <td>Adobe Premiere Pro</td>\n",
       "      <td>Video</td>\n",
       "      <td>Intel Core i7-13700 / AMD Ryzen 7 7700X</td>\n",
       "      <td>NVIDIA RTX 4070 / AMD RX 7800 XT</td>\n",
       "      <td>64GB</td>\n",
       "      <td>Professional timeline-based video editing soft...</td>\n",
       "    </tr>\n",
       "    <tr>\n",
       "      <th>1</th>\n",
       "      <td>Adobe Photoshop</td>\n",
       "      <td>Design</td>\n",
       "      <td>Intel Core i5-13600K / AMD Ryzen 5 7600X</td>\n",
       "      <td>NVIDIA RTX 4060 Ti / AMD RX 7700 XT</td>\n",
       "      <td>32GB</td>\n",
       "      <td>Industry-standard raster graphics editor for p...</td>\n",
       "    </tr>\n",
       "    <tr>\n",
       "      <th>2</th>\n",
       "      <td>DaVinci Resolve</td>\n",
       "      <td>Video</td>\n",
       "      <td>Intel Core i9-13900 / AMD Ryzen 9 7900X</td>\n",
       "      <td>NVIDIA RTX 4080 / AMD RX 7900 XT</td>\n",
       "      <td>64GB</td>\n",
       "      <td>Professional color correction and non-linear v...</td>\n",
       "    </tr>\n",
       "    <tr>\n",
       "      <th>3</th>\n",
       "      <td>Blender</td>\n",
       "      <td>3D</td>\n",
       "      <td>Intel Core i7-13700 / AMD Ryzen 7 7700X</td>\n",
       "      <td>NVIDIA RTX 4070 / AMD RX 7800 XT</td>\n",
       "      <td>64GB</td>\n",
       "      <td>Free and open-source 3D creation suite for mod...</td>\n",
       "    </tr>\n",
       "    <tr>\n",
       "      <th>4</th>\n",
       "      <td>Autodesk Maya</td>\n",
       "      <td>3D</td>\n",
       "      <td>Intel Core i9-13900 / AMD Ryzen 9 7900X</td>\n",
       "      <td>NVIDIA RTX 4080 / AMD RX 7900 XT</td>\n",
       "      <td>64GB</td>\n",
       "      <td>Professional 3D computer graphics software for...</td>\n",
       "    </tr>\n",
       "  </tbody>\n",
       "</table>\n",
       "</div>"
      ],
      "text/plain": [
       "                  App Category                                       CPU  \\\n",
       "0  Adobe Premiere Pro    Video   Intel Core i7-13700 / AMD Ryzen 7 7700X   \n",
       "1     Adobe Photoshop   Design  Intel Core i5-13600K / AMD Ryzen 5 7600X   \n",
       "2     DaVinci Resolve    Video   Intel Core i9-13900 / AMD Ryzen 9 7900X   \n",
       "3             Blender       3D   Intel Core i7-13700 / AMD Ryzen 7 7700X   \n",
       "4       Autodesk Maya       3D   Intel Core i9-13900 / AMD Ryzen 9 7900X   \n",
       "\n",
       "                                   GPU   RAM  \\\n",
       "0     NVIDIA RTX 4070 / AMD RX 7800 XT  64GB   \n",
       "1  NVIDIA RTX 4060 Ti / AMD RX 7700 XT  32GB   \n",
       "2     NVIDIA RTX 4080 / AMD RX 7900 XT  64GB   \n",
       "3     NVIDIA RTX 4070 / AMD RX 7800 XT  64GB   \n",
       "4     NVIDIA RTX 4080 / AMD RX 7900 XT  64GB   \n",
       "\n",
       "                                         Description  \n",
       "0  Professional timeline-based video editing soft...  \n",
       "1  Industry-standard raster graphics editor for p...  \n",
       "2  Professional color correction and non-linear v...  \n",
       "3  Free and open-source 3D creation suite for mod...  \n",
       "4  Professional 3D computer graphics software for...  "
      ]
     },
     "execution_count": 34,
     "metadata": {},
     "output_type": "execute_result"
    }
   ],
   "source": [
    "recspecs_app_df.head()"
   ]
  },
  {
   "cell_type": "markdown",
   "id": "fe6b5980",
   "metadata": {},
   "source": [
    "**Clean Data**"
   ]
  },
  {
   "cell_type": "markdown",
   "id": "4f21c060",
   "metadata": {},
   "source": []
  }
 ],
 "metadata": {
  "kernelspec": {
   "display_name": "mle-3.12",
   "language": "python",
   "name": "python3"
  },
  "language_info": {
   "codemirror_mode": {
    "name": "ipython",
    "version": 3
   },
   "file_extension": ".py",
   "mimetype": "text/x-python",
   "name": "python",
   "nbconvert_exporter": "python",
   "pygments_lexer": "ipython3",
   "version": "3.12.11"
  }
 },
 "nbformat": 4,
 "nbformat_minor": 5
}
